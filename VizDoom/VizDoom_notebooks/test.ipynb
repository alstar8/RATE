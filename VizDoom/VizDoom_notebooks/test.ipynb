{
 "cells": [
  {
   "cell_type": "code",
   "execution_count": 1,
   "id": "c0e7bbd8-5e39-41ec-9ddd-e063994f8f8c",
   "metadata": {},
   "outputs": [
    {
     "name": "stderr",
     "output_type": "stream",
     "text": [
      "\n",
      "libgomp: Invalid value for environment variable OMP_NUM_THREADS\n",
      "\n",
      "libgomp: Invalid value for environment variable OMP_NUM_THREADS\n"
     ]
    }
   ],
   "source": [
    "import os\n",
    "import datetime\n",
    "import torch\n",
    "import numpy as np\n",
    "from tqdm import tqdm\n",
    "import torch\n",
    "import torch.nn as nn\n",
    "import wandb\n",
    "import sys\n",
    "import matplotlib.pyplot as plt\n",
    "import pickle\n",
    "\n",
    "# from RMDT_model.RMDT import mem_transformer_v2\n",
    "\n",
    "import os\n",
    "import sys\n",
    "sys.path.append(\"../../\")\n",
    "\n",
    "from VizDoom.VizDoom_src.get_vizdoom_dataset import get_dataset"
   ]
  },
  {
   "cell_type": "markdown",
   "id": "193c3442-0f2e-4911-854b-c4cb9385b024",
   "metadata": {},
   "source": [
    "# Load VizDoom-Two-Colors data"
   ]
  },
  {
   "cell_type": "code",
   "execution_count": 2,
   "id": "f3c01530-ed5a-49e2-a9b1-c3c04519597e",
   "metadata": {},
   "outputs": [
    {
     "ename": "UnpicklingError",
     "evalue": "pickle data was truncated",
     "output_type": "error",
     "traceback": [
      "\u001b[0;31m---------------------------------------------------------------------------\u001b[0m",
      "\u001b[0;31mUnpicklingError\u001b[0m                           Traceback (most recent call last)",
      "\u001b[0;32m/tmp/ipykernel_11201/819563648.py\u001b[0m in \u001b[0;36m<module>\u001b[0;34m\u001b[0m\n\u001b[1;32m     16\u001b[0m     \u001b[0;32mwhile\u001b[0m \u001b[0;32mTrue\u001b[0m\u001b[0;34m:\u001b[0m\u001b[0;34m\u001b[0m\u001b[0;34m\u001b[0m\u001b[0m\n\u001b[1;32m     17\u001b[0m         \u001b[0;32mtry\u001b[0m\u001b[0;34m:\u001b[0m\u001b[0;34m\u001b[0m\u001b[0;34m\u001b[0m\u001b[0m\n\u001b[0;32m---> 18\u001b[0;31m             \u001b[0mdata\u001b[0m \u001b[0;34m=\u001b[0m \u001b[0mpickle\u001b[0m\u001b[0;34m.\u001b[0m\u001b[0mload\u001b[0m\u001b[0;34m(\u001b[0m\u001b[0mf\u001b[0m\u001b[0;34m)\u001b[0m\u001b[0;34m\u001b[0m\u001b[0;34m\u001b[0m\u001b[0m\n\u001b[0m\u001b[1;32m     19\u001b[0m             \u001b[0mDATA2_val\u001b[0m\u001b[0;34m.\u001b[0m\u001b[0mappend\u001b[0m\u001b[0;34m(\u001b[0m\u001b[0mdata\u001b[0m\u001b[0;34m)\u001b[0m\u001b[0;34m\u001b[0m\u001b[0;34m\u001b[0m\u001b[0m\n\u001b[1;32m     20\u001b[0m         \u001b[0;32mexcept\u001b[0m \u001b[0mEOFError\u001b[0m\u001b[0;34m:\u001b[0m\u001b[0;34m\u001b[0m\u001b[0;34m\u001b[0m\u001b[0m\n",
      "\u001b[0;31mUnpicklingError\u001b[0m: pickle data was truncated"
     ]
    }
   ],
   "source": [
    "# train_pickle_file = 'VizDoom/VizDoom_data/train_VizDoom_Two_Colors_Column_disappear_delay_45_no_walls_agent_p1_01.pickle'\n",
    "val_pickle_file = '../../VizDoom/VizDoom_data/val_VizDoom_Two_Colors_Column_disappear_delay_45_no_walls_agent_p1_01.pickle'\n",
    "\n",
    "# DATA2_train = []\n",
    "DATA2_val = []\n",
    "\n",
    "# with open(train_pickle_file, 'rb') as f:\n",
    "#     while True:\n",
    "#         try:\n",
    "#             data = pickle.load(f)\n",
    "#             DATA2_train.append(data)\n",
    "#         except EOFError:\n",
    "#             break\n",
    "            \n",
    "with open(val_pickle_file, 'rb') as f:\n",
    "    while True:\n",
    "        try:\n",
    "            data = pickle.load(f)\n",
    "            DATA2_val.append(data)\n",
    "        except EOFError:\n",
    "            break\n",
    "            \n",
    "# DATA_train = {}\n",
    "DATA_val = {}\n",
    "\n",
    "# for key in tqdm(DATA2_train[0].keys()):\n",
    "#     DATA_train[key] = [d[key] for d in DATA2_train]\n",
    "    \n",
    "for key in tqdm(DATA2_val[0].keys()):\n",
    "    DATA_val[key] = [d[key] for d in DATA2_val]"
   ]
  },
  {
   "cell_type": "code",
   "execution_count": 10,
   "id": "aa9695b7-f781-46ac-b961-1ef4ad3674b7",
   "metadata": {},
   "outputs": [
    {
     "name": "stdout",
     "output_type": "stream",
     "text": [
      "dict_keys(['obs', 'action', 'reward', 'done', 'is_red'])\n",
      "1024\n",
      "256\n"
     ]
    }
   ],
   "source": [
    "print(DATA_val.keys())\n",
    "# print(len(DATA_train['obs']))\n",
    "print(len(DATA_val['obs']))"
   ]
  },
  {
   "cell_type": "code",
   "execution_count": 21,
   "id": "9e4ac4bc-f3f8-46f0-95e9-044a1e91aa19",
   "metadata": {},
   "outputs": [
    {
     "name": "stdout",
     "output_type": "stream",
     "text": [
      "rofl\n"
     ]
    }
   ],
   "source": [
    "a = 0\n",
    "b = 1\n",
    "if a == 0 \\\n",
    "    and b == 1:\n",
    "    print(\"rofl\")"
   ]
  },
  {
   "cell_type": "code",
   "execution_count": null,
   "id": "e4b07614-f56d-4eac-96bc-40c8f061a1ad",
   "metadata": {},
   "outputs": [],
   "source": []
  }
 ],
 "metadata": {
  "kernelspec": {
   "display_name": "Python 3",
   "language": "python",
   "name": "python3"
  },
  "language_info": {
   "codemirror_mode": {
    "name": "ipython",
    "version": 3
   },
   "file_extension": ".py",
   "mimetype": "text/x-python",
   "name": "python",
   "nbconvert_exporter": "python",
   "pygments_lexer": "ipython3",
   "version": "3.7.12"
  }
 },
 "nbformat": 4,
 "nbformat_minor": 5
}

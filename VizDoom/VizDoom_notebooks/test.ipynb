{
 "cells": [
  {
   "cell_type": "code",
   "execution_count": 1,
   "id": "c0e7bbd8-5e39-41ec-9ddd-e063994f8f8c",
   "metadata": {},
   "outputs": [
    {
     "name": "stderr",
     "output_type": "stream",
     "text": [
      "\n",
      "libgomp: Invalid value for environment variable OMP_NUM_THREADS\n",
      "\n",
      "libgomp: Invalid value for environment variable OMP_NUM_THREADS\n"
     ]
    }
   ],
   "source": [
    "import os\n",
    "import datetime\n",
    "import torch\n",
    "import numpy as np\n",
    "from tqdm import tqdm\n",
    "import torch\n",
    "import torch.nn as nn\n",
    "import wandb\n",
    "import sys\n",
    "import matplotlib.pyplot as plt\n",
    "import pickle\n",
    "\n",
    "# from RMDT_model.RMDT import mem_transformer_v2\n",
    "\n",
    "import os\n",
    "import sys\n",
    "sys.path.append(\"../../\")\n",
    "\n",
    "from VizDoom.VizDoom_src.utils.get_vizdoom_dataset import get_dataset"
   ]
  },
  {
   "cell_type": "markdown",
   "id": "193c3442-0f2e-4911-854b-c4cb9385b024",
   "metadata": {},
   "source": [
    "# Load VizDoom-Two-Colors data"
   ]
  },
  {
   "cell_type": "code",
   "execution_count": 2,
   "id": "f3c01530-ed5a-49e2-a9b1-c3c04519597e",
   "metadata": {},
   "outputs": [
    {
     "name": "stderr",
     "output_type": "stream",
     "text": [
      "100%|██████████| 5/5 [00:00<00:00, 19765.81it/s]\n"
     ]
    }
   ],
   "source": [
    "# train_pickle_file = 'VizDoom/VizDoom_data/train_VizDoom_Two_Colors_Column_disappear_delay_45_no_walls_agent_p1_01.pickle'\n",
    "val_pickle_file = '../../VizDoom/VizDoom_data/val_VizDoom_Two_Colors_Column_disappear_delay_45_no_walls_agent_p1_01.pickle'\n",
    "\n",
    "# DATA2_train = []\n",
    "DATA2_val = []\n",
    "\n",
    "# with open(train_pickle_file, 'rb') as f:\n",
    "#     while True:\n",
    "#         try:\n",
    "#             data = pickle.load(f)\n",
    "#             DATA2_train.append(data)\n",
    "#         except EOFError:\n",
    "#             break\n",
    "            \n",
    "with open(val_pickle_file, 'rb') as f:\n",
    "    while True:\n",
    "        try:\n",
    "            data = pickle.load(f)\n",
    "            DATA2_val.append(data)\n",
    "        except EOFError:\n",
    "            break\n",
    "            \n",
    "# DATA_train = {}\n",
    "DATA_val = {}\n",
    "\n",
    "# for key in tqdm(DATA2_train[0].keys()):\n",
    "#     DATA_train[key] = [d[key] for d in DATA2_train]\n",
    "    \n",
    "for key in tqdm(DATA2_val[0].keys()):\n",
    "    DATA_val[key] = [d[key] for d in DATA2_val]"
   ]
  },
  {
   "cell_type": "code",
   "execution_count": 3,
   "id": "aa9695b7-f781-46ac-b961-1ef4ad3674b7",
   "metadata": {},
   "outputs": [
    {
     "name": "stdout",
     "output_type": "stream",
     "text": [
      "dict_keys(['obs', 'action', 'reward', 'done', 'is_red'])\n",
      "256\n"
     ]
    }
   ],
   "source": [
    "print(DATA_val.keys())\n",
    "# print(len(DATA_train['obs']))\n",
    "print(len(DATA_val['obs']))"
   ]
  },
  {
   "cell_type": "code",
   "execution_count": 4,
   "id": "33beb277",
   "metadata": {},
   "outputs": [
    {
     "data": {
      "text/plain": [
       "array([0.01, 0.01, 0.01, 0.01, 0.01, 0.01, 0.01, 0.01, 0.01, 0.01, 0.01,\n",
       "       0.01, 0.01, 0.01, 0.01, 0.01, 0.01, 0.01, 0.01, 0.01, 0.01, 0.01,\n",
       "       0.01, 0.01, 0.01, 0.01, 0.01, 0.01, 0.01, 0.01, 0.01, 0.01, 0.01,\n",
       "       0.01, 0.01, 0.01, 0.01, 0.01, 0.01, 0.01, 0.01, 0.01, 0.01, 0.01,\n",
       "       0.01, 0.01, 0.01, 0.01, 0.01, 0.01, 0.01, 0.01, 0.01, 0.01, 0.01,\n",
       "       0.01, 0.01, 0.01, 0.01, 1.01, 0.01, 0.01, 0.01, 0.01, 0.01, 0.01,\n",
       "       0.01, 0.01, 0.01, 0.01, 0.01, 0.01, 0.01, 0.01, 0.01, 0.01, 0.01,\n",
       "       0.01, 0.01, 0.01, 0.01, 0.01, 0.01, 0.01, 0.01, 0.01, 0.01, 0.01,\n",
       "       0.01, 0.01, 0.01, 0.01, 0.01, 0.01, 0.01, 0.01, 0.01, 1.01, 0.01,\n",
       "       0.01, 0.01, 0.01, 0.01, 0.01, 0.01, 0.01, 0.01, 0.01, 0.01, 0.01,\n",
       "       0.01, 0.01, 0.01, 0.01, 0.01, 0.01, 0.01, 0.01, 0.01, 0.01, 0.01,\n",
       "       0.01, 0.01, 0.01, 0.01, 0.01, 0.01, 0.01, 0.01, 0.01, 0.01, 0.01,\n",
       "       0.01, 0.01, 0.01, 0.01, 0.01, 0.01, 0.01, 0.01, 0.01, 0.01, 0.01,\n",
       "       0.01, 0.01, 0.01, 0.01, 0.01, 0.01, 0.01, 0.01, 0.01, 0.01, 0.01,\n",
       "       0.01, 0.01, 0.01, 0.01, 0.01, 0.01, 0.01, 0.01, 0.01, 0.01, 0.01,\n",
       "       0.01, 0.01, 0.01, 0.01, 0.01, 0.01, 0.01, 0.01, 0.01, 0.01, 0.01,\n",
       "       0.01, 0.01, 0.01, 0.01, 0.01, 0.01, 0.01, 0.01, 0.01, 0.01, 0.01,\n",
       "       0.01, 0.01, 0.01, 0.01, 0.01, 0.01, 0.01, 0.01, 0.01, 0.01, 0.01,\n",
       "       0.01, 1.01, 0.01, 0.01, 0.01, 0.01, 0.01, 0.01, 0.01, 0.01, 0.01,\n",
       "       0.01, 0.01, 0.01, 0.01, 0.01, 0.01, 0.01, 0.01, 0.01, 0.01, 0.01,\n",
       "       0.01, 0.01, 0.01, 0.01, 0.01, 0.01, 0.01, 0.01, 0.01, 1.01, 0.01,\n",
       "       0.01, 0.01, 0.01, 0.01, 0.01, 0.01, 0.01, 0.01, 0.01, 0.01, 0.01,\n",
       "       0.01, 0.01, 0.01, 0.01, 0.01, 0.01, 0.01, 0.01, 0.01, 0.01, 0.01,\n",
       "       0.01, 0.01, 0.01, 0.01, 0.01, 0.01, 1.01, 0.01, 0.01, 0.01, 0.01,\n",
       "       0.01, 0.01, 0.01, 0.01, 0.01, 0.01, 0.01, 0.01, 0.01, 0.01, 0.01,\n",
       "       0.01, 0.01, 0.01, 0.01, 0.01, 0.01, 0.01, 0.01, 0.01, 0.01, 0.01,\n",
       "       0.01, 0.01, 0.01, 0.01, 0.01, 0.01, 0.01, 0.01, 0.01, 0.01, 0.01,\n",
       "       0.01, 0.01, 0.01, 0.01, 0.01, 0.01, 0.01, 0.01, 0.01, 0.01, 0.01,\n",
       "       0.01, 0.01, 0.01, 0.01, 0.01, 0.01, 0.01, 0.01, 0.01, 0.01, 0.01,\n",
       "       0.01, 0.01, 0.01, 0.01, 0.01, 0.01, 0.01, 0.01, 0.01, 0.01, 0.01,\n",
       "       0.01, 0.01, 0.01, 0.01, 0.01, 0.01, 0.01, 0.01, 0.01, 0.01, 0.01,\n",
       "       0.01, 0.01, 0.01, 0.01, 0.01, 0.01, 0.01, 0.01, 0.01, 0.01, 0.01,\n",
       "       0.01, 0.01, 0.01, 0.01, 0.01, 0.01, 0.01, 0.01, 0.01, 1.01, 0.01,\n",
       "       0.01, 0.01, 0.01, 0.01, 0.01, 0.01, 0.01, 0.01, 0.01, 0.01, 0.01,\n",
       "       0.01, 0.01, 0.01, 0.01, 0.01, 0.01, 0.01, 0.01, 0.01, 0.01, 0.01,\n",
       "       0.01, 0.01, 0.01, 0.01, 0.01, 0.01, 0.01, 0.01, 0.01, 0.01, 0.01,\n",
       "       0.01, 0.01, 0.01, 0.01, 0.01, 0.01, 0.01, 0.01, 0.01, 0.01, 0.01,\n",
       "       0.01, 0.01, 0.01, 0.01, 0.01, 0.01, 0.01, 1.01, 0.01, 0.01, 0.01,\n",
       "       0.01, 0.01, 0.01, 0.01, 0.01, 0.01, 0.01, 0.01, 0.01, 0.01, 0.01,\n",
       "       0.01, 0.01, 0.01, 0.01, 0.01, 0.01, 0.01, 0.01, 0.01, 0.01, 0.01,\n",
       "       0.01, 0.01, 0.01, 0.01, 0.01, 0.01, 0.01, 0.01, 0.01, 0.01, 0.01,\n",
       "       0.01, 0.01, 0.01, 0.01, 0.01, 0.01, 0.01, 0.01, 0.01, 0.01, 0.01,\n",
       "       0.01, 0.01, 0.01, 0.01, 0.01, 0.01, 0.01, 0.01, 0.01, 0.01, 0.01,\n",
       "       0.01, 0.01, 0.01, 0.01, 0.01, 0.01, 0.01, 0.01, 0.01, 0.01, 0.01,\n",
       "       0.01, 0.01, 0.01, 0.01, 0.01, 0.01, 0.01, 0.01, 0.01, 0.01, 0.01,\n",
       "       0.01, 0.01, 0.01, 0.01, 0.01])"
      ]
     },
     "execution_count": 4,
     "metadata": {},
     "output_type": "execute_result"
    }
   ],
   "source": [
    "DATA_val['reward'][31]"
   ]
  },
  {
   "cell_type": "code",
   "execution_count": 5,
   "id": "a4675f45",
   "metadata": {},
   "outputs": [],
   "source": [
    "# \n",
    "# TODO: write code to calculate mean and std for the whole dataset (current code isn't correct)"
   ]
  },
  {
   "cell_type": "code",
   "execution_count": 171,
   "id": "457021f3",
   "metadata": {},
   "outputs": [],
   "source": [
    "from torch.utils.data import random_split, DataLoader\n",
    "val_dataset = get_dataset(DATA_val, gamma=1.0, max_length=3*30, normalize=True)\n",
    "val_dataloader = DataLoader(val_dataset, batch_size=64, shuffle=False, num_workers=4)"
   ]
  },
  {
   "cell_type": "code",
   "execution_count": 172,
   "id": "4b81db77",
   "metadata": {},
   "outputs": [
    {
     "name": "stdout",
     "output_type": "stream",
     "text": [
      "mean and std: \n",
      " tensor([13.5173, 19.6073, 14.7196]) tensor([16.2992, 20.0957, 10.2147])\n"
     ]
    }
   ],
   "source": [
    "def batch_mean_and_std(loader):\n",
    "    cnt = 0\n",
    "    fst_moment = torch.empty(3)\n",
    "    snd_moment = torch.empty(3)\n",
    "\n",
    "    for images, _, _, _, _, _ in loader:\n",
    "        b, l, c, h, w = images.shape\n",
    "        images = images.reshape(-1, c, h, w)\n",
    "        nb_pixels = b * l* h * w\n",
    "        sum_ = torch.sum(images, dim=[0, 2, 3])\n",
    "        sum_of_square = torch.sum(images ** 2,dim=[0, 2, 3])\n",
    "        fst_moment = (cnt * fst_moment + sum_) / (cnt + nb_pixels)\n",
    "        snd_moment = (cnt * snd_moment + sum_of_square) / (cnt + nb_pixels)\n",
    "        cnt += nb_pixels\n",
    "\n",
    "    mean, std = fst_moment, torch.sqrt(snd_moment - fst_moment ** 2)        \n",
    "\n",
    "    return mean, std\n",
    "  \n",
    "mean, std = batch_mean_and_std(val_dataloader)\n",
    "print(\"mean and std:\", mean, std)"
   ]
  },
  {
   "cell_type": "code",
   "execution_count": 173,
   "id": "56a2ef79",
   "metadata": {},
   "outputs": [
    {
     "data": {
      "text/plain": [
       "torch.Size([64, 90, 3, 64, 112])"
      ]
     },
     "execution_count": 173,
     "metadata": {},
     "output_type": "execute_result"
    }
   ],
   "source": [
    "traj = next(iter(val_dataloader))[0]\n",
    "traj.shape"
   ]
  },
  {
   "cell_type": "code",
   "execution_count": 138,
   "id": "7746a7f0",
   "metadata": {},
   "outputs": [
    {
     "data": {
      "image/png": "[encoded data removed]",
      "text/plain": [
       "<Figure size 720x360 with 1 Axes>"
      ]
     },
     "metadata": {
      "needs_background": "light"
     },
     "output_type": "display_data"
    }
   ],
   "source": [
    "plt.figure(figsize=(10,5))\n",
    "plt.imshow(traj[14][20].permute(1,2,0)/255.)\n",
    "plt.show()"
   ]
  },
  {
   "cell_type": "code",
   "execution_count": 139,
   "id": "15962245",
   "metadata": {},
   "outputs": [],
   "source": [
    "def z_normalize(data, mean, std):\n",
    "    \"\"\"_summary_\n",
    "\n",
    "    traj_norm.shape = torch.Size([5760, 3, 64, 112])\n",
    "    \"\"\"\n",
    "    return (data - mean[None, :, None, None]) / std[None, :, None, None]\n",
    "\n",
    "\n",
    "def inverse_z_normalize(data, mean, std):\n",
    "    return data * std[None, :, None, None] + mean[None, :, None, None]"
   ]
  },
  {
   "cell_type": "code",
   "execution_count": 140,
   "id": "0aab8fe0",
   "metadata": {},
   "outputs": [],
   "source": [
    "b, l, c, h, w = traj.shape\n",
    "traj_norm = traj.reshape(b*l, c, h, w)\n",
    "traj_norm = z_normalize(traj_norm, mean, std)\n",
    "traj_norm = traj_norm.reshape(b, l, c, h, w)"
   ]
  },
  {
   "cell_type": "code",
   "execution_count": 141,
   "id": "d50ee368",
   "metadata": {},
   "outputs": [],
   "source": [
    "restored_traj = traj_norm.reshape(b*l, c, h, w)\n",
    "restored_traj = inverse_z_normalize(restored_traj, mean, std)\n",
    "restored_traj = restored_traj.reshape(b, l, c, h, w)"
   ]
  },
  {
   "cell_type": "code",
   "execution_count": 179,
   "metadata": {},
   "outputs": [
    {
     "name": "stdout",
     "output_type": "stream",
     "text": [
      "0.5009033679962158\n"
     ]
    }
   ],
   "source": [
    "import time\n",
    "t1 = time.time()\n",
    "time.sleep(0.5)\n",
    "print(time.time() - t1)"
   ]
  },
  {
   "cell_type": "code",
   "execution_count": null,
   "id": "b18ba497",
   "metadata": {},
   "outputs": [],
   "source": []
  },
  {
   "cell_type": "code",
   "execution_count": 8,
   "id": "d07700e3",
   "metadata": {},
   "outputs": [
    {
     "data": {
      "text/plain": [
       "[1, 3, 4]"
      ]
     },
     "execution_count": 8,
     "metadata": {},
     "output_type": "execute_result"
    }
   ],
   "source": [
    "from random import sample\n",
    "sample(range(0,5), 3)"
   ]
  },
  {
   "cell_type": "code",
   "execution_count": 40,
   "id": "a5c28b1d",
   "metadata": {},
   "outputs": [],
   "source": [
    "test = torch.tensor([[[1, 1, 1],\n",
    "             [2,2,2],\n",
    "             [3,3,3]],\n",
    "\n",
    "             [[6, 6, 6],\n",
    "             [7,7,7],\n",
    "             [8,8,8]]], dtype=float)\n",
    "\n",
    "std = torch.std(test, dim=[0, 1])\n",
    "mean = torch.mean(test, dim=[0, 1])"
   ]
  },
  {
   "cell_type": "code",
   "execution_count": 41,
   "id": "b5ac73b3",
   "metadata": {},
   "outputs": [],
   "source": [
    "test1 =  (test-mean)/std#(test - mean[None, :, None]) / std[None, :, None]\n",
    "test2 =  (test - mean[None, :, None]) / std[None, :, None]"
   ]
  },
  {
   "cell_type": "code",
   "execution_count": 11,
   "id": "3d975817",
   "metadata": {},
   "outputs": [
    {
     "data": {
      "text/plain": [
       "tensor([[[0., 0., 0.],\n",
       "         [0., 0., 0.],\n",
       "         [0., 0., 0.]],\n",
       "\n",
       "        [[0., 0., 0.],\n",
       "         [0., 0., 0.],\n",
       "         [0., 0., 0.]]], dtype=torch.float64)"
      ]
     },
     "execution_count": 11,
     "metadata": {},
     "output_type": "execute_result"
    }
   ],
   "source": [
    "test1 - test2"
   ]
  },
  {
   "cell_type": "code",
   "execution_count": 12,
   "id": "9e4ac4bc-f3f8-46f0-95e9-044a1e91aa19",
   "metadata": {},
   "outputs": [],
   "source": [
    "# a = 0``\n",
    "# b = 1\n",
    "# if a == 0 \\\n",
    "#     and b == 1:\n",
    "#     print(\"rofl\")"
   ]
  },
  {
   "cell_type": "code",
   "execution_count": null,
   "id": "e4b07614-f56d-4eac-96bc-40c8f061a1ad",
   "metadata": {},
   "outputs": [],
   "source": []
  }
 ],
 "metadata": {
  "kernelspec": {
   "display_name": "Python 3",
   "language": "python",
   "name": "python3"
  },
  "language_info": {
   "codemirror_mode": {
    "name": "ipython",
    "version": 3
   },
   "file_extension": ".py",
   "mimetype": "text/x-python",
   "name": "python",
   "nbconvert_exporter": "python",
   "pygments_lexer": "ipython3",
   "version": "3.7.12"
  }
 },
 "nbformat": 4,
 "nbformat_minor": 5
}
